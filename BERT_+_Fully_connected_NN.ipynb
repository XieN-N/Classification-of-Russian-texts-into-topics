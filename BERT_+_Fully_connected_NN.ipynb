{
  "cells": [
    {
      "cell_type": "markdown",
      "metadata": {
        "id": "view-in-github",
        "colab_type": "text"
      },
      "source": [
        "<a href=\"https://colab.research.google.com/github/XieN-N/Classification-of-Russian-texts-into-topics/blob/main/BERT_%2B_Fully_connected_NN.ipynb\" target=\"_parent\"><img src=\"https://colab.research.google.com/assets/colab-badge.svg\" alt=\"Open In Colab\"/></a>"
      ]
    },
    {
      "cell_type": "code",
      "execution_count": null,
      "id": "23d56410-df99-46d8-afe7-50f21e35f398",
      "metadata": {
        "id": "23d56410-df99-46d8-afe7-50f21e35f398"
      },
      "outputs": [],
      "source": [
        "import pandas as pd\n",
        "import numpy as np\n",
        "\n",
        "import re\n",
        "import sklearn\n",
        "\n",
        "import matplotlib.pyplot as plt\n",
        "import seaborn as sns\n",
        "\n",
        "import torch\n",
        "import torch.nn as nn\n",
        "import torch.optim as optim\n",
        "from transformers import BertTokenizerFast, BertModel\n",
        "from torch.utils.data import DataLoader, Dataset\n",
        "from sklearn.metrics import accuracy_score, classification_report, confusion_matrix\n",
        "from sklearn.model_selection import train_test_split\n",
        "\n",
        "from tqdm import tqdm\n",
        "tqdm.pandas()"
      ]
    },
    {
      "cell_type": "code",
      "execution_count": null,
      "id": "f013cf87-d33f-4793-aadc-708f20e253bf",
      "metadata": {
        "id": "f013cf87-d33f-4793-aadc-708f20e253bf",
        "outputId": "5fbc849f-81a0-49b4-8f07-b452b499398a"
      },
      "outputs": [
        {
          "name": "stdout",
          "output_type": "stream",
          "text": [
            "         oid      category                                               text\n",
            "0  365271984  winter_sport  Волшебные фото Виктория Поплавская ЕвгенияМедв...\n",
            "1  503385563       extreme  Возвращение в подземелье Треша 33 Эйфория тупо...\n",
            "2  146016084      football  Лучшие чешские вратари – Доминик Доминатор Гаш...\n",
            "3  933865449    boardgames  Rtokenoid Warhammer40k валрак решил нас подкор...\n",
            "4  713550145        hockey  Шестеркин затаскивает Рейнджерс в финал Восточ...\n",
            "         oid                                               text\n",
            "0  749208109  СПОЧНО СООБЩЕСТВО ПРОДАЕТСЯ ЗА 1300Р ЗА ПОКУПК...\n",
            "1  452466036  Естественное восстановление после тяжелой трен...\n",
            "2  161038103  Тема нарядов продолжается Одна из британских ж...\n",
            "3  663621910  Привет Избранный. Ты спрашиваешь себя ЧТО здес...\n",
            "4  566255305  КОРОЛЬ ПЯТИСОТНИКОВ В ДЕЛЕ Андрей Рублев успеш...\n"
          ]
        },
        {
          "data": {
            "text/html": [
              "<div>\n",
              "<style scoped>\n",
              "    .dataframe tbody tr th:only-of-type {\n",
              "        vertical-align: middle;\n",
              "    }\n",
              "\n",
              "    .dataframe tbody tr th {\n",
              "        vertical-align: top;\n",
              "    }\n",
              "\n",
              "    .dataframe thead th {\n",
              "        text-align: right;\n",
              "    }\n",
              "</style>\n",
              "<table border=\"1\" class=\"dataframe\">\n",
              "  <thead>\n",
              "    <tr style=\"text-align: right;\">\n",
              "      <th></th>\n",
              "      <th>oid</th>\n",
              "      <th>category</th>\n",
              "    </tr>\n",
              "  </thead>\n",
              "  <tbody>\n",
              "    <tr>\n",
              "      <th>0</th>\n",
              "      <td>1622114</td>\n",
              "      <td>athletics</td>\n",
              "    </tr>\n",
              "    <tr>\n",
              "      <th>1</th>\n",
              "      <td>1663817</td>\n",
              "      <td>autosport</td>\n",
              "    </tr>\n",
              "    <tr>\n",
              "      <th>2</th>\n",
              "      <td>3174332</td>\n",
              "      <td>basketball</td>\n",
              "    </tr>\n",
              "    <tr>\n",
              "      <th>3</th>\n",
              "      <td>3469228</td>\n",
              "      <td>extreme</td>\n",
              "    </tr>\n",
              "    <tr>\n",
              "      <th>4</th>\n",
              "      <td>3905302</td>\n",
              "      <td>boardgames</td>\n",
              "    </tr>\n",
              "  </tbody>\n",
              "</table>\n",
              "</div>"
            ],
            "text/plain": [
              "       oid    category\n",
              "0  1622114   athletics\n",
              "1  1663817   autosport\n",
              "2  3174332  basketball\n",
              "3  3469228     extreme\n",
              "4  3905302  boardgames"
            ]
          },
          "execution_count": 59,
          "metadata": {},
          "output_type": "execute_result"
        }
      ],
      "source": [
        "data_train = pd.read_csv('Dataset/train.csv')\n",
        "data_test = pd.read_csv('Dataset/test.csv')\n",
        "sample_submission = pd.read_csv('Dataset/sample_submission.csv')\n",
        "print(data_train.head())\n",
        "print(data_test.head())\n",
        "sample_submission.head()"
      ]
    },
    {
      "cell_type": "markdown",
      "id": "befb85cb-7c2e-4915-b85c-88f9e7da474e",
      "metadata": {
        "id": "befb85cb-7c2e-4915-b85c-88f9e7da474e"
      },
      "source": [
        "Удаление дубликатов и строк с пропущенными значениями:"
      ]
    },
    {
      "cell_type": "code",
      "execution_count": null,
      "id": "52dea356-cc44-44a6-98ed-7748e85f320a",
      "metadata": {
        "id": "52dea356-cc44-44a6-98ed-7748e85f320a"
      },
      "outputs": [],
      "source": [
        "# Удаляем дубликаты:\n",
        "\n",
        "data_train = pd.DataFrame.drop_duplicates(data_train)\n",
        "data_test = pd.DataFrame.drop_duplicates(data_test)\n",
        "\n",
        "# Удаляем строки, в которых есть NAN значения:\n",
        "\n",
        "data_train = pd.DataFrame.dropna(data_train)\n",
        "data_test = pd.DataFrame.dropna(data_test)"
      ]
    },
    {
      "cell_type": "code",
      "execution_count": null,
      "id": "dfbd8062-b7ee-40c5-9290-0d80f2958972",
      "metadata": {
        "id": "dfbd8062-b7ee-40c5-9290-0d80f2958972"
      },
      "outputs": [],
      "source": [
        "dict_oid_to_category = dict(zip(sample_submission.oid, sample_submission.category))"
      ]
    },
    {
      "cell_type": "code",
      "execution_count": null,
      "id": "a7aa6db9-deab-4e3c-9567-bf50591506aa",
      "metadata": {
        "id": "a7aa6db9-deab-4e3c-9567-bf50591506aa",
        "outputId": "c59fcd37-f947-489e-8187-5cb726b79b4e"
      },
      "outputs": [
        {
          "data": {
            "text/plain": [
              "'basketball'"
            ]
          },
          "execution_count": 62,
          "metadata": {},
          "output_type": "execute_result"
        }
      ],
      "source": [
        "dict_oid_to_category[3174332]"
      ]
    },
    {
      "cell_type": "code",
      "execution_count": null,
      "id": "479cdbf2-9414-4f06-9a64-6f7951eec039",
      "metadata": {
        "id": "479cdbf2-9414-4f06-9a64-6f7951eec039"
      },
      "outputs": [],
      "source": [
        "def oid_to_category(oid):\n",
        "    return dict_oid_to_category[oid]"
      ]
    },
    {
      "cell_type": "code",
      "execution_count": null,
      "id": "ef2c0083-5c8c-4bd3-9b4f-b4b9d18a409c",
      "metadata": {
        "id": "ef2c0083-5c8c-4bd3-9b4f-b4b9d18a409c",
        "outputId": "571c5102-4a90-4c6c-ad2e-2f1a731569c0"
      },
      "outputs": [
        {
          "name": "stderr",
          "output_type": "stream",
          "text": [
            "100%|████████████████████████████████| 26049/26049 [00:00<00:00, 1892952.37it/s]\n"
          ]
        }
      ],
      "source": [
        "data_test['category'] = data_test['oid'].progress_apply(oid_to_category)"
      ]
    },
    {
      "cell_type": "code",
      "execution_count": null,
      "id": "7951a658-d7e8-4253-b263-4b6e74664a2e",
      "metadata": {
        "id": "7951a658-d7e8-4253-b263-4b6e74664a2e",
        "outputId": "05e84f62-3837-4dfe-dd07-83084dca95d2"
      },
      "outputs": [
        {
          "data": {
            "text/html": [
              "<div>\n",
              "<style scoped>\n",
              "    .dataframe tbody tr th:only-of-type {\n",
              "        vertical-align: middle;\n",
              "    }\n",
              "\n",
              "    .dataframe tbody tr th {\n",
              "        vertical-align: top;\n",
              "    }\n",
              "\n",
              "    .dataframe thead th {\n",
              "        text-align: right;\n",
              "    }\n",
              "</style>\n",
              "<table border=\"1\" class=\"dataframe\">\n",
              "  <thead>\n",
              "    <tr style=\"text-align: right;\">\n",
              "      <th></th>\n",
              "      <th>oid</th>\n",
              "      <th>text</th>\n",
              "      <th>category</th>\n",
              "    </tr>\n",
              "  </thead>\n",
              "  <tbody>\n",
              "    <tr>\n",
              "      <th>0</th>\n",
              "      <td>749208109</td>\n",
              "      <td>СПОЧНО СООБЩЕСТВО ПРОДАЕТСЯ ЗА 1300Р ЗА ПОКУПК...</td>\n",
              "      <td>esport</td>\n",
              "    </tr>\n",
              "    <tr>\n",
              "      <th>1</th>\n",
              "      <td>452466036</td>\n",
              "      <td>Естественное восстановление после тяжелой трен...</td>\n",
              "      <td>martial_arts</td>\n",
              "    </tr>\n",
              "    <tr>\n",
              "      <th>2</th>\n",
              "      <td>161038103</td>\n",
              "      <td>Тема нарядов продолжается Одна из британских ж...</td>\n",
              "      <td>tennis</td>\n",
              "    </tr>\n",
              "    <tr>\n",
              "      <th>3</th>\n",
              "      <td>663621910</td>\n",
              "      <td>Привет Избранный. Ты спрашиваешь себя ЧТО здес...</td>\n",
              "      <td>esport</td>\n",
              "    </tr>\n",
              "    <tr>\n",
              "      <th>4</th>\n",
              "      <td>566255305</td>\n",
              "      <td>КОРОЛЬ ПЯТИСОТНИКОВ В ДЕЛЕ Андрей Рублев успеш...</td>\n",
              "      <td>tennis</td>\n",
              "    </tr>\n",
              "  </tbody>\n",
              "</table>\n",
              "</div>"
            ],
            "text/plain": [
              "         oid                                               text      category\n",
              "0  749208109  СПОЧНО СООБЩЕСТВО ПРОДАЕТСЯ ЗА 1300Р ЗА ПОКУПК...        esport\n",
              "1  452466036  Естественное восстановление после тяжелой трен...  martial_arts\n",
              "2  161038103  Тема нарядов продолжается Одна из британских ж...        tennis\n",
              "3  663621910  Привет Избранный. Ты спрашиваешь себя ЧТО здес...        esport\n",
              "4  566255305  КОРОЛЬ ПЯТИСОТНИКОВ В ДЕЛЕ Андрей Рублев успеш...        tennis"
            ]
          },
          "execution_count": 65,
          "metadata": {},
          "output_type": "execute_result"
        }
      ],
      "source": [
        "data_test.head()"
      ]
    },
    {
      "cell_type": "code",
      "execution_count": null,
      "id": "bd79b7c3-96e7-4097-b8a2-43d95482c102",
      "metadata": {
        "id": "bd79b7c3-96e7-4097-b8a2-43d95482c102"
      },
      "outputs": [],
      "source": [
        "categories = data_train['category'].unique()\n",
        "\n",
        "dict_to_cat = {c: i for i, c in enumerate(categories)}\n",
        "cat_to_dict = {i: c for i, c in enumerate(categories)}\n",
        "\n",
        "def transform_label(label, label_to_cat=False):\n",
        "\n",
        "    vector_shape = len(categories)\n",
        "    one_hot_vector = np.zeros((vector_shape,))\n",
        "    one_hot_vector[dict_to_cat[label]] = 1\n",
        "\n",
        "    if label_to_cat:\n",
        "        return torch.from_numpy(one_hot_vector)\n",
        "    else:\n",
        "        return dict_to_cat[label]"
      ]
    },
    {
      "cell_type": "code",
      "execution_count": null,
      "id": "dce46c35-d839-450a-a2c6-3870f2b51f9c",
      "metadata": {
        "id": "dce46c35-d839-450a-a2c6-3870f2b51f9c",
        "outputId": "c82162d1-fccb-4cab-f2e9-1da00c3965e2"
      },
      "outputs": [
        {
          "name": "stderr",
          "output_type": "stream",
          "text": [
            "100%|█████████████████████████████████| 38309/38309 [00:00<00:00, 918022.21it/s]\n",
            "100%|█████████████████████████████████| 26049/26049 [00:00<00:00, 981295.36it/s]\n"
          ]
        }
      ],
      "source": [
        "data_train['label'] = data_train['category'].progress_apply(transform_label)\n",
        "data_test['label'] = data_test['category'].progress_apply(transform_label)"
      ]
    },
    {
      "cell_type": "code",
      "execution_count": null,
      "id": "3dd01769-3bdc-4d91-9332-197ff9877ecd",
      "metadata": {
        "id": "3dd01769-3bdc-4d91-9332-197ff9877ecd",
        "outputId": "daa0b5b5-5506-4b6e-d960-5efae0b75d44"
      },
      "outputs": [
        {
          "name": "stdout",
          "output_type": "stream",
          "text": [
            "[ 0  1  2  3  4  5  6  7  8  9 10 11 12]\n"
          ]
        },
        {
          "data": {
            "text/html": [
              "<div>\n",
              "<style scoped>\n",
              "    .dataframe tbody tr th:only-of-type {\n",
              "        vertical-align: middle;\n",
              "    }\n",
              "\n",
              "    .dataframe tbody tr th {\n",
              "        vertical-align: top;\n",
              "    }\n",
              "\n",
              "    .dataframe thead th {\n",
              "        text-align: right;\n",
              "    }\n",
              "</style>\n",
              "<table border=\"1\" class=\"dataframe\">\n",
              "  <thead>\n",
              "    <tr style=\"text-align: right;\">\n",
              "      <th></th>\n",
              "      <th>oid</th>\n",
              "      <th>category</th>\n",
              "      <th>text</th>\n",
              "      <th>label</th>\n",
              "    </tr>\n",
              "  </thead>\n",
              "  <tbody>\n",
              "    <tr>\n",
              "      <th>0</th>\n",
              "      <td>365271984</td>\n",
              "      <td>winter_sport</td>\n",
              "      <td>Волшебные фото Виктория Поплавская ЕвгенияМедв...</td>\n",
              "      <td>0</td>\n",
              "    </tr>\n",
              "    <tr>\n",
              "      <th>1</th>\n",
              "      <td>503385563</td>\n",
              "      <td>extreme</td>\n",
              "      <td>Возвращение в подземелье Треша 33 Эйфория тупо...</td>\n",
              "      <td>1</td>\n",
              "    </tr>\n",
              "    <tr>\n",
              "      <th>2</th>\n",
              "      <td>146016084</td>\n",
              "      <td>football</td>\n",
              "      <td>Лучшие чешские вратари – Доминик Доминатор Гаш...</td>\n",
              "      <td>2</td>\n",
              "    </tr>\n",
              "    <tr>\n",
              "      <th>3</th>\n",
              "      <td>933865449</td>\n",
              "      <td>boardgames</td>\n",
              "      <td>Rtokenoid Warhammer40k валрак решил нас подкор...</td>\n",
              "      <td>3</td>\n",
              "    </tr>\n",
              "    <tr>\n",
              "      <th>4</th>\n",
              "      <td>713550145</td>\n",
              "      <td>hockey</td>\n",
              "      <td>Шестеркин затаскивает Рейнджерс в финал Восточ...</td>\n",
              "      <td>4</td>\n",
              "    </tr>\n",
              "  </tbody>\n",
              "</table>\n",
              "</div>"
            ],
            "text/plain": [
              "         oid      category                                               text  \\\n",
              "0  365271984  winter_sport  Волшебные фото Виктория Поплавская ЕвгенияМедв...   \n",
              "1  503385563       extreme  Возвращение в подземелье Треша 33 Эйфория тупо...   \n",
              "2  146016084      football  Лучшие чешские вратари – Доминик Доминатор Гаш...   \n",
              "3  933865449    boardgames  Rtokenoid Warhammer40k валрак решил нас подкор...   \n",
              "4  713550145        hockey  Шестеркин затаскивает Рейнджерс в финал Восточ...   \n",
              "\n",
              "   label  \n",
              "0      0  \n",
              "1      1  \n",
              "2      2  \n",
              "3      3  \n",
              "4      4  "
            ]
          },
          "execution_count": 68,
          "metadata": {},
          "output_type": "execute_result"
        }
      ],
      "source": [
        "print(data_train['label'].unique())\n",
        "data_train.head()"
      ]
    },
    {
      "cell_type": "code",
      "execution_count": null,
      "id": "93399206-c6b0-4e99-9d26-f3b3eb226f30",
      "metadata": {
        "id": "93399206-c6b0-4e99-9d26-f3b3eb226f30",
        "outputId": "0aa7f504-ddab-4aa9-e4f5-5c47d15ebe53"
      },
      "outputs": [
        {
          "name": "stdout",
          "output_type": "stream",
          "text": [
            "[ 5 11  9  8 10 12  3  6  0  4  2  7  1]\n"
          ]
        },
        {
          "data": {
            "text/html": [
              "<div>\n",
              "<style scoped>\n",
              "    .dataframe tbody tr th:only-of-type {\n",
              "        vertical-align: middle;\n",
              "    }\n",
              "\n",
              "    .dataframe tbody tr th {\n",
              "        vertical-align: top;\n",
              "    }\n",
              "\n",
              "    .dataframe thead th {\n",
              "        text-align: right;\n",
              "    }\n",
              "</style>\n",
              "<table border=\"1\" class=\"dataframe\">\n",
              "  <thead>\n",
              "    <tr style=\"text-align: right;\">\n",
              "      <th></th>\n",
              "      <th>oid</th>\n",
              "      <th>text</th>\n",
              "      <th>category</th>\n",
              "      <th>label</th>\n",
              "    </tr>\n",
              "  </thead>\n",
              "  <tbody>\n",
              "    <tr>\n",
              "      <th>0</th>\n",
              "      <td>749208109</td>\n",
              "      <td>СПОЧНО СООБЩЕСТВО ПРОДАЕТСЯ ЗА 1300Р ЗА ПОКУПК...</td>\n",
              "      <td>esport</td>\n",
              "      <td>5</td>\n",
              "    </tr>\n",
              "    <tr>\n",
              "      <th>1</th>\n",
              "      <td>452466036</td>\n",
              "      <td>Естественное восстановление после тяжелой трен...</td>\n",
              "      <td>martial_arts</td>\n",
              "      <td>11</td>\n",
              "    </tr>\n",
              "    <tr>\n",
              "      <th>2</th>\n",
              "      <td>161038103</td>\n",
              "      <td>Тема нарядов продолжается Одна из британских ж...</td>\n",
              "      <td>tennis</td>\n",
              "      <td>9</td>\n",
              "    </tr>\n",
              "    <tr>\n",
              "      <th>3</th>\n",
              "      <td>663621910</td>\n",
              "      <td>Привет Избранный. Ты спрашиваешь себя ЧТО здес...</td>\n",
              "      <td>esport</td>\n",
              "      <td>5</td>\n",
              "    </tr>\n",
              "    <tr>\n",
              "      <th>4</th>\n",
              "      <td>566255305</td>\n",
              "      <td>КОРОЛЬ ПЯТИСОТНИКОВ В ДЕЛЕ Андрей Рублев успеш...</td>\n",
              "      <td>tennis</td>\n",
              "      <td>9</td>\n",
              "    </tr>\n",
              "  </tbody>\n",
              "</table>\n",
              "</div>"
            ],
            "text/plain": [
              "         oid                                               text      category  \\\n",
              "0  749208109  СПОЧНО СООБЩЕСТВО ПРОДАЕТСЯ ЗА 1300Р ЗА ПОКУПК...        esport   \n",
              "1  452466036  Естественное восстановление после тяжелой трен...  martial_arts   \n",
              "2  161038103  Тема нарядов продолжается Одна из британских ж...        tennis   \n",
              "3  663621910  Привет Избранный. Ты спрашиваешь себя ЧТО здес...        esport   \n",
              "4  566255305  КОРОЛЬ ПЯТИСОТНИКОВ В ДЕЛЕ Андрей Рублев успеш...        tennis   \n",
              "\n",
              "   label  \n",
              "0      5  \n",
              "1     11  \n",
              "2      9  \n",
              "3      5  \n",
              "4      9  "
            ]
          },
          "execution_count": 69,
          "metadata": {},
          "output_type": "execute_result"
        }
      ],
      "source": [
        "print(data_test['label'].unique())\n",
        "data_test.head()"
      ]
    },
    {
      "cell_type": "markdown",
      "id": "a32177ea-e254-4760-ab1b-0834f97fd80f",
      "metadata": {
        "id": "a32177ea-e254-4760-ab1b-0834f97fd80f"
      },
      "source": [
        "Видим, что текста каждого класса примерно одинаковое количество, нет нужды учитывать веса классов (они все примерно равны 1):"
      ]
    },
    {
      "cell_type": "code",
      "execution_count": null,
      "id": "a64a9526-ba6c-4f9d-8b87-397d14eba8b2",
      "metadata": {
        "id": "a64a9526-ba6c-4f9d-8b87-397d14eba8b2",
        "outputId": "72d13918-585e-42e4-e6be-c7d1ed698656"
      },
      "outputs": [
        {
          "data": {
            "text/plain": [
              "category\n",
              "autosport       0.081913\n",
              "extreme         0.079955\n",
              "motosport       0.078885\n",
              "martial_arts    0.078546\n",
              "tennis          0.078258\n",
              "boardgames      0.077527\n",
              "athletics       0.077214\n",
              "hockey          0.076770\n",
              "volleyball      0.076614\n",
              "esport          0.076431\n",
              "football        0.074212\n",
              "winter_sport    0.072933\n",
              "basketball      0.070741\n",
              "Name: proportion, dtype: float64"
            ]
          },
          "execution_count": 70,
          "metadata": {},
          "output_type": "execute_result"
        }
      ],
      "source": [
        "data_train.category.value_counts(normalize=True) # распределение практически одинаковое"
      ]
    },
    {
      "cell_type": "code",
      "execution_count": null,
      "id": "ee167b53-765f-45c1-8b2d-1d4cca4532bf",
      "metadata": {
        "id": "ee167b53-765f-45c1-8b2d-1d4cca4532bf",
        "outputId": "266a5229-ac80-4892-a6a8-5d650a96c25c"
      },
      "outputs": [
        {
          "name": "stderr",
          "output_type": "stream",
          "text": [
            "100%|█████████████████████████████████| 38309/38309 [00:00<00:00, 241461.87it/s]\n",
            "100%|█████████████████████████████████| 26049/26049 [00:00<00:00, 264517.00it/s]\n"
          ]
        }
      ],
      "source": [
        "data_train['token_length'] = data_train.text.progress_apply(lambda x: len(x.split()))\n",
        "data_test['token_length'] = data_test.text.progress_apply(lambda x: len(x.split()))"
      ]
    },
    {
      "cell_type": "code",
      "execution_count": null,
      "id": "8798ab50-2743-499e-9456-e363a3c2b0d7",
      "metadata": {
        "id": "8798ab50-2743-499e-9456-e363a3c2b0d7",
        "outputId": "f854f3a2-838b-48da-ba84-2e7cfd306371"
      },
      "outputs": [
        {
          "name": "stdout",
          "output_type": "stream",
          "text": [
            "0 класс\n",
            "count    2794.000000\n",
            "mean       69.301718\n",
            "std        79.481921\n",
            "min         3.000000\n",
            "25%        14.000000\n",
            "50%        39.000000\n",
            "75%        95.000000\n",
            "max       492.000000\n",
            "Name: token_length, dtype: float64\n",
            "--------------\n",
            "1 класс\n",
            "count    3063.000000\n",
            "mean       67.602351\n",
            "std        72.996469\n",
            "min         6.000000\n",
            "25%        19.000000\n",
            "50%        43.000000\n",
            "75%        87.000000\n",
            "max       503.000000\n",
            "Name: token_length, dtype: float64\n",
            "--------------\n",
            "2 класс\n",
            "count    2843.000000\n",
            "mean       46.775237\n",
            "std        62.972474\n",
            "min         5.000000\n",
            "25%        13.000000\n",
            "50%        23.000000\n",
            "75%        50.000000\n",
            "max       474.000000\n",
            "Name: token_length, dtype: float64\n",
            "--------------\n",
            "3 класс\n",
            "count    2970.000000\n",
            "mean       64.240741\n",
            "std        52.068765\n",
            "min         7.000000\n",
            "25%        29.000000\n",
            "50%        53.000000\n",
            "75%        82.000000\n",
            "max       445.000000\n",
            "Name: token_length, dtype: float64\n",
            "--------------\n",
            "4 класс\n",
            "count    2941.000000\n",
            "mean       59.057123\n",
            "std        73.490914\n",
            "min         5.000000\n",
            "25%        15.000000\n",
            "50%        29.000000\n",
            "75%        75.000000\n",
            "max       583.000000\n",
            "Name: token_length, dtype: float64\n",
            "--------------\n",
            "5 класс\n",
            "count    2928.000000\n",
            "mean       37.138320\n",
            "std        42.810589\n",
            "min         6.000000\n",
            "25%        14.000000\n",
            "50%        24.000000\n",
            "75%        42.000000\n",
            "max       453.000000\n",
            "Name: token_length, dtype: float64\n",
            "--------------\n",
            "6 класс\n",
            "count    2958.000000\n",
            "mean       81.456051\n",
            "std        92.501723\n",
            "min         6.000000\n",
            "25%        19.000000\n",
            "50%        49.000000\n",
            "75%       103.000000\n",
            "max       517.000000\n",
            "Name: token_length, dtype: float64\n",
            "--------------\n",
            "7 класс\n",
            "count    3022.000000\n",
            "mean       76.741231\n",
            "std        88.189618\n",
            "min         6.000000\n",
            "25%        22.000000\n",
            "50%        46.000000\n",
            "75%        77.000000\n",
            "max       478.000000\n",
            "Name: token_length, dtype: float64\n",
            "--------------\n",
            "8 класс\n",
            "count    2710.000000\n",
            "mean       47.557934\n",
            "std        57.643468\n",
            "min         6.000000\n",
            "25%        13.000000\n",
            "50%        24.000000\n",
            "75%        67.000000\n",
            "max       489.000000\n",
            "Name: token_length, dtype: float64\n",
            "--------------\n",
            "9 класс\n",
            "count    2998.000000\n",
            "mean       49.598399\n",
            "std        52.392599\n",
            "min         6.000000\n",
            "25%        19.000000\n",
            "50%        35.000000\n",
            "75%        58.000000\n",
            "max       474.000000\n",
            "Name: token_length, dtype: float64\n",
            "--------------\n",
            "10 класс\n",
            "count    3138.000000\n",
            "mean       78.137030\n",
            "std        86.545447\n",
            "min         6.000000\n",
            "25%        17.000000\n",
            "50%        38.000000\n",
            "75%       115.750000\n",
            "max       483.000000\n",
            "Name: token_length, dtype: float64\n",
            "--------------\n",
            "11 класс\n",
            "count    3009.000000\n",
            "mean       62.230309\n",
            "std        73.141107\n",
            "min         6.000000\n",
            "25%        15.000000\n",
            "50%        29.000000\n",
            "75%        85.000000\n",
            "max       482.000000\n",
            "Name: token_length, dtype: float64\n",
            "--------------\n",
            "12 класс\n",
            "count    2935.000000\n",
            "mean       52.983305\n",
            "std        60.488384\n",
            "min         6.000000\n",
            "25%        17.000000\n",
            "50%        32.000000\n",
            "75%        63.000000\n",
            "max       634.000000\n",
            "Name: token_length, dtype: float64\n",
            "--------------\n"
          ]
        }
      ],
      "source": [
        "for i in range(len(data_train['label'].unique())):\n",
        "    data_pos = data_train[data_train['label'] == i]\n",
        "    print(f'{i} класс')\n",
        "    print(data_pos['token_length'].describe())\n",
        "    print('--------------')"
      ]
    },
    {
      "cell_type": "code",
      "execution_count": null,
      "id": "9eb2ad49-2e11-4065-b1b6-1f37f33fba3f",
      "metadata": {
        "id": "9eb2ad49-2e11-4065-b1b6-1f37f33fba3f",
        "outputId": "f77b2f20-e61b-4ca8-aa36-93ec37111b24"
      },
      "outputs": [
        {
          "data": {
            "text/plain": [
              "<Axes: >"
            ]
          },
          "execution_count": 73,
          "metadata": {},
          "output_type": "execute_result"
        },
        {
          "data": {
            "image/png": "[encoded data removed]",
            "text/plain": [
              "<Figure size 640x480 with 1 Axes>"
            ]
          },
          "metadata": {},
          "output_type": "display_data"
        }
      ],
      "source": [
        "seq_len = [len(i.split()) for i in data_train['text']]\n",
        "\n",
        "pd.Series(seq_len).hist(bins = 30)"
      ]
    },
    {
      "cell_type": "markdown",
      "id": "ad4d01a7-91f2-4a5e-832b-07889fb053df",
      "metadata": {
        "id": "ad4d01a7-91f2-4a5e-832b-07889fb053df"
      },
      "source": [
        "Анализируя данные тексты, можно сказать, что можно обрезать все тексты до 80 символов."
      ]
    },
    {
      "cell_type": "code",
      "execution_count": null,
      "id": "8cb18026-2740-4438-bd34-e5e8a1c7d2fe",
      "metadata": {
        "id": "8cb18026-2740-4438-bd34-e5e8a1c7d2fe"
      },
      "outputs": [],
      "source": [
        "def rm_link(text):\n",
        "    return re.sub(r'https?://\\S+|www\\.\\S+', '', text)\n",
        "\n",
        "def rm_punct2(text):\n",
        "    return re.sub(r'[\\\"\\#\\$\\%\\&\\'\\(\\)\\*\\+\\/\\:\\;\\<\\=\\>\\@\\[\\\\\\]\\^\\_\\`\\{\\|\\}\\~]', ' ', text)\n",
        "\n",
        "def rm_html(text):\n",
        "    return re.sub(r'<[^>]+>', '', text)\n",
        "\n",
        "def space_bt_punct(text):\n",
        "    pattern = r'([.,!?-])'\n",
        "    s = re.sub(pattern, r' \\1 ', text)\n",
        "    s = re.sub(r'\\s{2,}', ' ', s)\n",
        "    return s\n",
        "\n",
        "def rm_number(text):\n",
        "    return re.sub(r'\\d+', '', text)\n",
        "\n",
        "def rm_whitespaces(text):\n",
        "    return re.sub(r' +', ' ', text)\n",
        "\n",
        "def rm_emoji(text):\n",
        "    emojis = re.compile(\n",
        "        '['\n",
        "        u'\\U0001F600-\\U0001F64F'\n",
        "        u'\\U0001F300-\\U0001F5FF'\n",
        "        u'\\U0001F680-\\U0001F6FF'\n",
        "        u'\\U0001F1E0-\\U0001F1FF'\n",
        "        u'\\U00002702-\\U000027B0'\n",
        "        u'\\U000024C2-\\U0001F251'\n",
        "        ']+',\n",
        "        flags=re.UNICODE\n",
        "    )\n",
        "    return emojis.sub(r'', text)\n",
        "\n",
        "def spell_correction(text):\n",
        "    return re.sub(r'(.)\\1+', r'\\1\\1', text)"
      ]
    },
    {
      "cell_type": "code",
      "execution_count": null,
      "id": "2daa3873-07bc-4fb8-9bdb-7690b89f068e",
      "metadata": {
        "id": "2daa3873-07bc-4fb8-9bdb-7690b89f068e"
      },
      "outputs": [],
      "source": [
        "def clean_pipeline(text):\n",
        "    no_link = rm_link(text)\n",
        "    no_html = rm_html(no_link)\n",
        "    space_punct = space_bt_punct(no_html)\n",
        "    no_punct = rm_punct2(space_punct)\n",
        "    no_number = rm_number(no_punct)\n",
        "    no_whitespaces = rm_whitespaces(no_number)\n",
        "    no_emoji = rm_emoji(no_whitespaces)\n",
        "    spell_corrected = spell_correction(no_emoji)\n",
        "    return spell_corrected"
      ]
    },
    {
      "cell_type": "code",
      "execution_count": null,
      "id": "ffbd4b7f-0263-4c76-a5f3-2295db122364",
      "metadata": {
        "id": "ffbd4b7f-0263-4c76-a5f3-2295db122364",
        "outputId": "2bbad210-418f-46a6-97c9-2f42d8123f5c"
      },
      "outputs": [
        {
          "name": "stderr",
          "output_type": "stream",
          "text": [
            "100%|██████████████████████████████████| 38309/38309 [00:02<00:00, 19152.63it/s]\n",
            "100%|██████████████████████████████████| 26049/26049 [00:01<00:00, 18766.52it/s]\n"
          ]
        },
        {
          "data": {
            "text/html": [
              "<div>\n",
              "<style scoped>\n",
              "    .dataframe tbody tr th:only-of-type {\n",
              "        vertical-align: middle;\n",
              "    }\n",
              "\n",
              "    .dataframe tbody tr th {\n",
              "        vertical-align: top;\n",
              "    }\n",
              "\n",
              "    .dataframe thead th {\n",
              "        text-align: right;\n",
              "    }\n",
              "</style>\n",
              "<table border=\"1\" class=\"dataframe\">\n",
              "  <thead>\n",
              "    <tr style=\"text-align: right;\">\n",
              "      <th></th>\n",
              "      <th>oid</th>\n",
              "      <th>category</th>\n",
              "      <th>text</th>\n",
              "      <th>label</th>\n",
              "      <th>token_length</th>\n",
              "      <th>clean</th>\n",
              "    </tr>\n",
              "  </thead>\n",
              "  <tbody>\n",
              "    <tr>\n",
              "      <th>0</th>\n",
              "      <td>365271984</td>\n",
              "      <td>winter_sport</td>\n",
              "      <td>Волшебные фото Виктория Поплавская ЕвгенияМедв...</td>\n",
              "      <td>0</td>\n",
              "      <td>6</td>\n",
              "      <td>Волшебные фото Виктория Поплавская ЕвгенияМедв...</td>\n",
              "    </tr>\n",
              "    <tr>\n",
              "      <th>1</th>\n",
              "      <td>503385563</td>\n",
              "      <td>extreme</td>\n",
              "      <td>Возвращение в подземелье Треша 33 Эйфория тупо...</td>\n",
              "      <td>1</td>\n",
              "      <td>43</td>\n",
              "      <td>Возвращение в подземелье Треша Эйфория тупости...</td>\n",
              "    </tr>\n",
              "    <tr>\n",
              "      <th>2</th>\n",
              "      <td>146016084</td>\n",
              "      <td>football</td>\n",
              "      <td>Лучшие чешские вратари – Доминик Доминатор Гаш...</td>\n",
              "      <td>2</td>\n",
              "      <td>110</td>\n",
              "      <td>Лучшие чешские вратари – Доминик Доминатор Гаш...</td>\n",
              "    </tr>\n",
              "    <tr>\n",
              "      <th>3</th>\n",
              "      <td>933865449</td>\n",
              "      <td>boardgames</td>\n",
              "      <td>Rtokenoid Warhammer40k валрак решил нас подкор...</td>\n",
              "      <td>3</td>\n",
              "      <td>209</td>\n",
              "      <td>Rtokenoid Warhammerk валрак решил нас подкорми...</td>\n",
              "    </tr>\n",
              "    <tr>\n",
              "      <th>4</th>\n",
              "      <td>713550145</td>\n",
              "      <td>hockey</td>\n",
              "      <td>Шестеркин затаскивает Рейнджерс в финал Восточ...</td>\n",
              "      <td>4</td>\n",
              "      <td>382</td>\n",
              "      <td>Шестеркин затаскивает Рейнджерс в финал Восточ...</td>\n",
              "    </tr>\n",
              "  </tbody>\n",
              "</table>\n",
              "</div>"
            ],
            "text/plain": [
              "         oid      category                                               text  \\\n",
              "0  365271984  winter_sport  Волшебные фото Виктория Поплавская ЕвгенияМедв...   \n",
              "1  503385563       extreme  Возвращение в подземелье Треша 33 Эйфория тупо...   \n",
              "2  146016084      football  Лучшие чешские вратари – Доминик Доминатор Гаш...   \n",
              "3  933865449    boardgames  Rtokenoid Warhammer40k валрак решил нас подкор...   \n",
              "4  713550145        hockey  Шестеркин затаскивает Рейнджерс в финал Восточ...   \n",
              "\n",
              "   label  token_length                                              clean  \n",
              "0      0             6  Волшебные фото Виктория Поплавская ЕвгенияМедв...  \n",
              "1      1            43  Возвращение в подземелье Треша Эйфория тупости...  \n",
              "2      2           110  Лучшие чешские вратари – Доминик Доминатор Гаш...  \n",
              "3      3           209  Rtokenoid Warhammerk валрак решил нас подкорми...  \n",
              "4      4           382  Шестеркин затаскивает Рейнджерс в финал Восточ...  "
            ]
          },
          "execution_count": 76,
          "metadata": {},
          "output_type": "execute_result"
        }
      ],
      "source": [
        "data_train['clean'] = data_train['text'].progress_apply(clean_pipeline)\n",
        "data_test['clean'] = data_test['text'].progress_apply(clean_pipeline)\n",
        "data_train.head()"
      ]
    },
    {
      "cell_type": "code",
      "execution_count": null,
      "id": "8f1a311c-a1ae-49f6-be29-fd6f57cd9869",
      "metadata": {
        "id": "8f1a311c-a1ae-49f6-be29-fd6f57cd9869",
        "outputId": "750632ef-d241-4a84-a348-72a197568dc4"
      },
      "outputs": [
        {
          "data": {
            "text/html": [
              "<div>\n",
              "<style scoped>\n",
              "    .dataframe tbody tr th:only-of-type {\n",
              "        vertical-align: middle;\n",
              "    }\n",
              "\n",
              "    .dataframe tbody tr th {\n",
              "        vertical-align: top;\n",
              "    }\n",
              "\n",
              "    .dataframe thead th {\n",
              "        text-align: right;\n",
              "    }\n",
              "</style>\n",
              "<table border=\"1\" class=\"dataframe\">\n",
              "  <thead>\n",
              "    <tr style=\"text-align: right;\">\n",
              "      <th></th>\n",
              "      <th>oid</th>\n",
              "      <th>text</th>\n",
              "      <th>category</th>\n",
              "      <th>label</th>\n",
              "      <th>token_length</th>\n",
              "      <th>clean</th>\n",
              "    </tr>\n",
              "  </thead>\n",
              "  <tbody>\n",
              "    <tr>\n",
              "      <th>0</th>\n",
              "      <td>749208109</td>\n",
              "      <td>СПОЧНО СООБЩЕСТВО ПРОДАЕТСЯ ЗА 1300Р ЗА ПОКУПК...</td>\n",
              "      <td>esport</td>\n",
              "      <td>5</td>\n",
              "      <td>16</td>\n",
              "      <td>СПОЧНО СООБЩЕСТВО ПРОДАЕТСЯ ЗА Р ЗА ПОКУПКОЙ П...</td>\n",
              "    </tr>\n",
              "    <tr>\n",
              "      <th>1</th>\n",
              "      <td>452466036</td>\n",
              "      <td>Естественное восстановление после тяжелой трен...</td>\n",
              "      <td>martial_arts</td>\n",
              "      <td>11</td>\n",
              "      <td>67</td>\n",
              "      <td>Естественное восстановление после тяжелой трен...</td>\n",
              "    </tr>\n",
              "    <tr>\n",
              "      <th>2</th>\n",
              "      <td>161038103</td>\n",
              "      <td>Тема нарядов продолжается Одна из британских ж...</td>\n",
              "      <td>tennis</td>\n",
              "      <td>9</td>\n",
              "      <td>33</td>\n",
              "      <td>Тема нарядов продолжается Одна из британских ж...</td>\n",
              "    </tr>\n",
              "    <tr>\n",
              "      <th>3</th>\n",
              "      <td>663621910</td>\n",
              "      <td>Привет Избранный. Ты спрашиваешь себя ЧТО здес...</td>\n",
              "      <td>esport</td>\n",
              "      <td>5</td>\n",
              "      <td>102</td>\n",
              "      <td>Привет Избранный . Ты спрашиваешь себя ЧТО зде...</td>\n",
              "    </tr>\n",
              "    <tr>\n",
              "      <th>4</th>\n",
              "      <td>566255305</td>\n",
              "      <td>КОРОЛЬ ПЯТИСОТНИКОВ В ДЕЛЕ Андрей Рублев успеш...</td>\n",
              "      <td>tennis</td>\n",
              "      <td>9</td>\n",
              "      <td>26</td>\n",
              "      <td>КОРОЛЬ ПЯТИСОТНИКОВ В ДЕЛЕ Андрей Рублев успеш...</td>\n",
              "    </tr>\n",
              "  </tbody>\n",
              "</table>\n",
              "</div>"
            ],
            "text/plain": [
              "         oid                                               text      category  \\\n",
              "0  749208109  СПОЧНО СООБЩЕСТВО ПРОДАЕТСЯ ЗА 1300Р ЗА ПОКУПК...        esport   \n",
              "1  452466036  Естественное восстановление после тяжелой трен...  martial_arts   \n",
              "2  161038103  Тема нарядов продолжается Одна из британских ж...        tennis   \n",
              "3  663621910  Привет Избранный. Ты спрашиваешь себя ЧТО здес...        esport   \n",
              "4  566255305  КОРОЛЬ ПЯТИСОТНИКОВ В ДЕЛЕ Андрей Рублев успеш...        tennis   \n",
              "\n",
              "   label  token_length                                              clean  \n",
              "0      5            16  СПОЧНО СООБЩЕСТВО ПРОДАЕТСЯ ЗА Р ЗА ПОКУПКОЙ П...  \n",
              "1     11            67  Естественное восстановление после тяжелой трен...  \n",
              "2      9            33  Тема нарядов продолжается Одна из британских ж...  \n",
              "3      5           102  Привет Избранный . Ты спрашиваешь себя ЧТО зде...  \n",
              "4      9            26  КОРОЛЬ ПЯТИСОТНИКОВ В ДЕЛЕ Андрей Рублев успеш...  "
            ]
          },
          "execution_count": 77,
          "metadata": {},
          "output_type": "execute_result"
        }
      ],
      "source": [
        "data_test.head()"
      ]
    },
    {
      "cell_type": "code",
      "execution_count": null,
      "id": "007fe683-03fb-45e4-9246-aee734af0683",
      "metadata": {
        "id": "007fe683-03fb-45e4-9246-aee734af0683"
      },
      "outputs": [],
      "source": [
        "data_train[['clean', 'label']].to_csv('./train_clean.csv', index=False, header=True)\n",
        "data_test[['clean', 'label']].to_csv('./test_clean.csv', index=False, header=True)"
      ]
    },
    {
      "cell_type": "markdown",
      "id": "cc23dba8-4761-4645-a22d-03d5af2e492c",
      "metadata": {
        "id": "cc23dba8-4761-4645-a22d-03d5af2e492c"
      },
      "source": [
        "Загружаем предобработанные данные:"
      ]
    },
    {
      "cell_type": "code",
      "execution_count": null,
      "id": "f1bed3d0-c1b4-44df-b7d1-130017c3e7cf",
      "metadata": {
        "id": "f1bed3d0-c1b4-44df-b7d1-130017c3e7cf",
        "outputId": "84c381c8-001c-442f-db07-d26bf0d2deff"
      },
      "outputs": [
        {
          "name": "stdout",
          "output_type": "stream",
          "text": [
            "Волшебные фото Виктория Поплавская ЕвгенияМедведева Evgentokenoid\n",
            "Label: 0\n",
            "\n",
            "\n",
            "Возвращение в подземелье Треша Эйфория тупости и жадности зашкаливает В этот раз мы посетим Ростовскую область . Всю . И знаете это пока что единственный выпуск в котором не будет . . . А впрочем сами все увидите Ссылка на видео в источнике\n",
            "Label: 1\n",
            "\n",
            "\n",
            "Лучшие чешские вратари – Доминик Доминатор Гашек и Петр Танкист Чех . Примечательно что в детстве Чех мечтал стать хоккеистом а его кумиром был никто иной как Доминик Гашек . Однако стать звездой НХЛ Чеху было не суждено . Петр родился в небогатой семье денег едва хватало на базовые расходы а хоккейная экипировка оказалась не по карману его родителям . А вот футбольные принадлежности родители могли купить без проблем поэтому Петр и выбрал данный вид спорта . Чех хоть и был очень огорчен но решил что однажды обязательно будет играть в хоккей . И его мечта сбылась . Уже после завершения футбольной карьеры он подписал контракт с английской командой Гилфорд Феникс выступающей во втором дивизионе лиги NIHL . \n",
            "Label: 2\n",
            "\n",
            "\n"
          ]
        }
      ],
      "source": [
        "data_train = pd.read_csv('./train_clean.csv')\n",
        "data_test = pd.read_csv('./test_clean.csv')\n",
        "\n",
        "for row in data_train[:3].iterrows():\n",
        "    print(row[1]['clean'])\n",
        "    print(f'Label: {row[1][\"label\"]}')\n",
        "    print('\\n')"
      ]
    },
    {
      "cell_type": "code",
      "execution_count": null,
      "id": "74568e2d-556a-4076-9273-3c4382a51a68",
      "metadata": {
        "id": "74568e2d-556a-4076-9273-3c4382a51a68"
      },
      "outputs": [],
      "source": [
        "train_text = data_train['clean']\n",
        "train_labels = data_train['label']\n",
        "test_text = data_test['clean']\n",
        "test_labels = data_test['label']"
      ]
    },
    {
      "cell_type": "code",
      "execution_count": null,
      "id": "1506ec78-57d7-413f-a439-d60ebe04436d",
      "metadata": {
        "id": "1506ec78-57d7-413f-a439-d60ebe04436d"
      },
      "outputs": [],
      "source": [
        "train_text, train_labels = sklearn.utils.shuffle(train_text, train_labels)"
      ]
    },
    {
      "cell_type": "code",
      "execution_count": null,
      "id": "35e89d88-7688-42a6-a71a-907c308d3348",
      "metadata": {
        "id": "35e89d88-7688-42a6-a71a-907c308d3348"
      },
      "outputs": [],
      "source": [
        "test_text, val_text, test_labels, val_labels = train_test_split(test_text, test_labels, test_size=0.3)"
      ]
    },
    {
      "cell_type": "code",
      "execution_count": null,
      "id": "95fd3f0c-36af-4034-b9e1-a904078ded7c",
      "metadata": {
        "id": "95fd3f0c-36af-4034-b9e1-a904078ded7c",
        "outputId": "4d4082a4-460e-4212-d54c-ce30bb8c3d29"
      },
      "outputs": [
        {
          "name": "stderr",
          "output_type": "stream",
          "text": [
            "/home/xxienn/.pytorch/lib/python3.12/site-packages/transformers/tokenization_utils_base.py:1601: FutureWarning: `clean_up_tokenization_spaces` was not set. It will be set to `True` by default. This behavior will be depracted in transformers v4.45, and will be then set to `False` by default. For more details check this issue: https://github.com/huggingface/transformers/issues/31884\n",
            "  warnings.warn(\n"
          ]
        }
      ],
      "source": [
        "tokenizer = BertTokenizerFast.from_pretrained('bert-base-uncased')\n",
        "bert = BertModel.from_pretrained('bert-base-uncased')"
      ]
    },
    {
      "cell_type": "code",
      "execution_count": null,
      "id": "33869ac1-f624-4feb-a686-806352d55dd3",
      "metadata": {
        "id": "33869ac1-f624-4feb-a686-806352d55dd3",
        "outputId": "db1cda23-fc0d-4363-86d2-b0cbffbcae08"
      },
      "outputs": [
        {
          "name": "stdout",
          "output_type": "stream",
          "text": [
            "{'input_ids': [[101, 1194, 16856, 19259, 15290, 16856, 28598, 1181, 15290, 16856, 22919, 102, 0, 0, 0], [101, 1194, 16856, 14150, 29741, 18947, 14150, 29744, 1194, 14150, 29741, 14150, 29742, 29113, 102]], 'attention_mask': [[1, 1, 1, 1, 1, 1, 1, 1, 1, 1, 1, 1, 0, 0, 0], [1, 1, 1, 1, 1, 1, 1, 1, 1, 1, 1, 1, 1, 1, 1]]}\n"
          ]
        }
      ],
      "source": [
        "text = [\"Проверка БЕРТ\", \"Прогноз погоды\"]\n",
        "\n",
        "sent_id = tokenizer.batch_encode_plus(text, padding=True, return_token_type_ids=False)\n",
        "\n",
        "print(sent_id)"
      ]
    },
    {
      "cell_type": "code",
      "execution_count": null,
      "id": "7f523729-4bf2-4e0f-925c-9f7c83ee54bc",
      "metadata": {
        "id": "7f523729-4bf2-4e0f-925c-9f7c83ee54bc",
        "outputId": "961b3020-ea61-4254-d221-25d0d136eb70"
      },
      "outputs": [
        {
          "name": "stderr",
          "output_type": "stream",
          "text": [
            "/home/xxienn/.pytorch/lib/python3.12/site-packages/transformers/tokenization_utils_base.py:2870: FutureWarning: The `pad_to_max_length` argument is deprecated and will be removed in a future version, use `padding=True` or `padding='longest'` to pad to the longest sequence in the batch, or use `padding='max_length'` to pad to a max length. In this case, you can give a specific length with `max_length` (e.g. `max_length=45`) or leave max_length to None to pad to the maximal input size of the model (e.g. 512 for Bert).\n",
            "  warnings.warn(\n"
          ]
        }
      ],
      "source": [
        "max_seq_len = 80\n",
        "\n",
        "tokens_train = tokenizer.batch_encode_plus(\n",
        "    train_text.tolist(),\n",
        "    max_length = max_seq_len,\n",
        "    pad_to_max_length=True,\n",
        "    truncation=True,\n",
        "    return_token_type_ids=False\n",
        ")\n",
        "\n",
        "tokens_val = tokenizer.batch_encode_plus(\n",
        "    val_text.tolist(),\n",
        "    max_length = max_seq_len,\n",
        "    pad_to_max_length=True,\n",
        "    truncation=True,\n",
        "    return_token_type_ids=False\n",
        ")\n",
        "\n",
        "tokens_test = tokenizer.batch_encode_plus(\n",
        "    test_text.tolist(),\n",
        "    max_length = max_seq_len,\n",
        "    pad_to_max_length=True,\n",
        "    truncation=True,\n",
        "    return_token_type_ids=False\n",
        ")"
      ]
    },
    {
      "cell_type": "code",
      "execution_count": null,
      "id": "6ce9c244-719f-4a30-b52f-2d4f2071763a",
      "metadata": {
        "id": "6ce9c244-719f-4a30-b52f-2d4f2071763a"
      },
      "outputs": [],
      "source": [
        "train_seq = torch.tensor(tokens_train['input_ids'])\n",
        "train_mask = torch.tensor(tokens_train['attention_mask'])\n",
        "train_y = torch.tensor(train_labels.tolist())\n",
        "\n",
        "val_seq = torch.tensor(tokens_val['input_ids'])\n",
        "val_mask = torch.tensor(tokens_val['attention_mask'])\n",
        "val_y = torch.tensor(val_labels.tolist())\n",
        "\n",
        "test_seq = torch.tensor(tokens_test['input_ids'])\n",
        "test_mask = torch.tensor(tokens_test['attention_mask'])\n",
        "test_y = torch.tensor(test_labels.tolist())"
      ]
    },
    {
      "cell_type": "code",
      "execution_count": null,
      "id": "5e14f936-a051-4db3-b4c7-719edb5b51e3",
      "metadata": {
        "id": "5e14f936-a051-4db3-b4c7-719edb5b51e3"
      },
      "outputs": [],
      "source": [
        "from torch.utils.data import TensorDataset, DataLoader\n",
        "from torch.utils.data import RandomSampler, SequentialSampler\n",
        "\n",
        "batch_size = 128\n",
        "\n",
        "train_data = TensorDataset(train_seq,\n",
        "                           train_mask,\n",
        "                           train_y)\n",
        "\n",
        "train_sampler = RandomSampler(train_data)\n",
        "\n",
        "train_dataloader = DataLoader(train_data,\n",
        "                              sampler=train_sampler,\n",
        "                              batch_size=batch_size)\n",
        "\n",
        "val_data = TensorDataset(val_seq, val_mask, val_y)\n",
        "\n",
        "val_sampler = SequentialSampler(val_data)\n",
        "\n",
        "val_dataloader = DataLoader(val_data,\n",
        "                            sampler = val_sampler,\n",
        "                            batch_size = batch_size)"
      ]
    },
    {
      "cell_type": "code",
      "execution_count": null,
      "id": "4b8b0d1c-5b93-4867-99e8-fd9a59fbd7c8",
      "metadata": {
        "id": "4b8b0d1c-5b93-4867-99e8-fd9a59fbd7c8"
      },
      "outputs": [],
      "source": [
        "for param in bert.parameters():\n",
        "    param.requires_grad = False"
      ]
    },
    {
      "cell_type": "code",
      "execution_count": null,
      "id": "8e8828ff-99a9-4415-a987-e13967b2a4a9",
      "metadata": {
        "id": "8e8828ff-99a9-4415-a987-e13967b2a4a9"
      },
      "outputs": [],
      "source": [
        "class TextClassifier(nn.Module):\n",
        "    def __init__(self, bert_model, num_classes):\n",
        "        super(TextClassifier, self).__init__()\n",
        "        self.bert = bert_model # используем языковую модель для получения эмбеддингов текста\n",
        "        self.relu = nn.ReLU()\n",
        "        self.dropout = nn.Dropout(0.1)\n",
        "        self.fc1 = nn.Linear(bert_model.config.hidden_size, 256)\n",
        "        self.fc2 = nn.Linear(256, 128)\n",
        "        self.fc3 = nn.Linear(128, 64)\n",
        "        self.fc4 = nn.Linear(64, num_classes)\n",
        "\n",
        "    def forward(self, input_ids, attention_mask):\n",
        "        outputs = self.bert(input_ids=input_ids, attention_mask=attention_mask)\n",
        "        last_hidden_state = outputs.last_hidden_state\n",
        "\n",
        "        cls_output = last_hidden_state[:, 0, :]\n",
        "\n",
        "        cls_output = self.dropout(cls_output)\n",
        "\n",
        "        x = self.fc1(cls_output)\n",
        "\n",
        "        x = self.relu(x)\n",
        "\n",
        "        x = self.fc2(x)\n",
        "\n",
        "        x = self.dropout(x)\n",
        "\n",
        "        x = self.relu(x)\n",
        "\n",
        "        x = self.fc3(x)\n",
        "\n",
        "        x = self.relu(x)\n",
        "\n",
        "        logits = self.fc4(x)\n",
        "\n",
        "        return logits"
      ]
    },
    {
      "cell_type": "code",
      "execution_count": null,
      "id": "38c849d0-a31f-44db-a894-247e5967e417",
      "metadata": {
        "id": "38c849d0-a31f-44db-a894-247e5967e417"
      },
      "outputs": [],
      "source": [
        "device_type = \"cuda\" if torch.cuda.is_available() else \"cpu\"\n",
        "device = torch.device(device_type)"
      ]
    },
    {
      "cell_type": "code",
      "execution_count": null,
      "id": "9ad7b72e-faf0-43ba-a350-adcfcd4dfd71",
      "metadata": {
        "id": "9ad7b72e-faf0-43ba-a350-adcfcd4dfd71",
        "outputId": "1fdc8da1-7169-4bdf-95aa-17e17e3fe65c"
      },
      "outputs": [
        {
          "name": "stdout",
          "output_type": "stream",
          "text": [
            "13\n"
          ]
        }
      ],
      "source": [
        "num_classes = len(data_train['label'].unique())\n",
        "print(num_classes)\n",
        "\n",
        "model = TextClassifier(bert, num_classes)\n",
        "model = model.to(device)"
      ]
    },
    {
      "cell_type": "code",
      "execution_count": null,
      "id": "5f335593-93a6-4d51-bfc6-59ae8ea613b3",
      "metadata": {
        "id": "5f335593-93a6-4d51-bfc6-59ae8ea613b3"
      },
      "outputs": [],
      "source": [
        "def train():\n",
        "\n",
        "    model.train()\n",
        "    total_loss, total_accuracy = 0, 0\n",
        "\n",
        "    total_preds=[]\n",
        "\n",
        "    len_td = len(train_dataloader)\n",
        "\n",
        "    for step, batch in enumerate(train_dataloader):\n",
        "\n",
        "        if step % 50 == 0 and not step == 0:\n",
        "\n",
        "            print(' Batch {:>5,} of {:>5,}.'.format(step, len_td))\n",
        "\n",
        "        batch = [r.to(device) for r in batch]\n",
        "\n",
        "        sent_id, mask, labels = batch\n",
        "\n",
        "        model.zero_grad()\n",
        "\n",
        "        preds = model(sent_id, mask)\n",
        "\n",
        "        loss = criterion(preds, labels)\n",
        "        total_loss = total_loss + loss.item()\n",
        "        loss.backward()\n",
        "\n",
        "        torch.nn.utils.clip_grad_norm_(model.parameters(), 1.0)\n",
        "\n",
        "        optimizer.step()\n",
        "\n",
        "        preds = preds.detach().cpu().numpy()\n",
        "\n",
        "        total_preds.append(preds)\n",
        "\n",
        "    avg_loss = total_loss / len_td\n",
        "\n",
        "    total_preds = np.concatenate(total_preds, axis=0)\n",
        "\n",
        "    return avg_loss, total_preds\n",
        "\n",
        "# Определение функции оценки\n",
        "def evaluate():\n",
        "\n",
        "    print(\"\\nEvaluating...\")\n",
        "    model.eval()\n",
        "    total_loss, total_accuracy = 0, 0\n",
        "\n",
        "    total_preds=[]\n",
        "    len_vd = len(val_dataloader)\n",
        "    for step, batch in enumerate(val_dataloader):\n",
        "\n",
        "        if step % 50 == 0 and not step == 0:\n",
        "\n",
        "            print(' Batch {:>5,} of {:>5,}.'.format(step, len_vd))\n",
        "\n",
        "        batch = [t.to(device) for t in batch]\n",
        "        sent_id, mask, labels = batch\n",
        "\n",
        "        with torch.no_grad():\n",
        "\n",
        "            preds = model(sent_id, mask)\n",
        "            loss = criterion(preds, labels)\n",
        "            total_loss = total_loss + loss.item()\n",
        "            preds = preds.detach().cpu().numpy()\n",
        "\n",
        "            total_preds.append(preds)\n",
        "\n",
        "    avg_loss = total_loss / len_vd\n",
        "    total_preds = np.concatenate(total_preds, axis=0)\n",
        "\n",
        "    return avg_loss, total_preds"
      ]
    },
    {
      "cell_type": "code",
      "execution_count": null,
      "id": "28729d8c-bd1d-49e0-93af-dadd3ec9eff2",
      "metadata": {
        "id": "28729d8c-bd1d-49e0-93af-dadd3ec9eff2"
      },
      "outputs": [],
      "source": [
        "optimizer = optim.AdamW(model.parameters(), lr=1e-3)\n",
        "criterion = nn.CrossEntropyLoss()"
      ]
    },
    {
      "cell_type": "code",
      "execution_count": null,
      "id": "6ac40177-9950-41b4-8bb7-0e2ba85bcbf5",
      "metadata": {
        "id": "6ac40177-9950-41b4-8bb7-0e2ba85bcbf5"
      },
      "outputs": [],
      "source": [
        "epochs = 5"
      ]
    },
    {
      "cell_type": "markdown",
      "id": "4ba5e4f7-163f-4601-9314-5eff02dd8fae",
      "metadata": {
        "id": "4ba5e4f7-163f-4601-9314-5eff02dd8fae"
      },
      "source": [
        "Очистка памяти, используем только тогда, когда необходимо:"
      ]
    },
    {
      "cell_type": "code",
      "execution_count": null,
      "id": "b8f5d98e-a280-44f5-910e-2697e4548987",
      "metadata": {
        "id": "b8f5d98e-a280-44f5-910e-2697e4548987",
        "outputId": "34d97dcc-c133-4b19-be67-6fa18686661e"
      },
      "outputs": [
        {
          "data": {
            "text/plain": [
              "0"
            ]
          },
          "execution_count": 29,
          "metadata": {},
          "output_type": "execute_result"
        }
      ],
      "source": [
        "import gc\n",
        "torch.cuda.empty_cache()\n",
        "gc.collect()"
      ]
    },
    {
      "cell_type": "markdown",
      "id": "b0a47a63-62c4-4351-9982-6456dc1583dd",
      "metadata": {
        "id": "b0a47a63-62c4-4351-9982-6456dc1583dd"
      },
      "source": [
        "Обучаем модель:"
      ]
    },
    {
      "cell_type": "code",
      "execution_count": null,
      "id": "74b9b235-6771-4cc1-b9cc-14c29b84c5be",
      "metadata": {
        "id": "74b9b235-6771-4cc1-b9cc-14c29b84c5be",
        "outputId": "6c049a82-568b-4e6f-b42e-31ed73af41dc"
      },
      "outputs": [
        {
          "name": "stdout",
          "output_type": "stream",
          "text": [
            "\n",
            " Epoch 1 / 5\n",
            " Batch    50 of   300.\n",
            " Batch   100 of   300.\n",
            " Batch   150 of   300.\n",
            " Batch   200 of   300.\n",
            " Batch   250 of   300.\n",
            "\n",
            "Evaluating...\n",
            " Batch    50 of    62.\n",
            "\n",
            "Training Loss: 2.493\n",
            "Validation Loss: 2.378\n",
            "\n",
            " Epoch 2 / 5\n",
            " Batch    50 of   300.\n",
            " Batch   100 of   300.\n",
            " Batch   150 of   300.\n",
            " Batch   200 of   300.\n",
            " Batch   250 of   300.\n",
            "\n",
            "Evaluating...\n",
            " Batch    50 of    62.\n",
            "\n",
            "Training Loss: 2.395\n",
            "Validation Loss: 2.312\n",
            "\n",
            " Epoch 3 / 5\n",
            " Batch    50 of   300.\n",
            " Batch   100 of   300.\n",
            " Batch   150 of   300.\n",
            " Batch   200 of   300.\n",
            " Batch   250 of   300.\n",
            "\n",
            "Evaluating...\n",
            " Batch    50 of    62.\n",
            "\n",
            "Training Loss: 2.350\n",
            "Validation Loss: 2.244\n",
            "\n",
            " Epoch 4 / 5\n",
            " Batch    50 of   300.\n",
            " Batch   100 of   300.\n",
            " Batch   150 of   300.\n",
            " Batch   200 of   300.\n",
            " Batch   250 of   300.\n",
            "\n",
            "Evaluating...\n",
            " Batch    50 of    62.\n",
            "\n",
            "Training Loss: 2.315\n",
            "Validation Loss: 2.239\n",
            "\n",
            " Epoch 5 / 5\n",
            " Batch    50 of   300.\n",
            " Batch   100 of   300.\n",
            " Batch   150 of   300.\n",
            " Batch   200 of   300.\n",
            " Batch   250 of   300.\n",
            "\n",
            "Evaluating...\n",
            " Batch    50 of    62.\n",
            "\n",
            "Training Loss: 2.289\n",
            "Validation Loss: 2.188\n"
          ]
        }
      ],
      "source": [
        "best_valid_loss = float('inf')\n",
        "\n",
        "train_losses=[]\n",
        "valid_losses=[]\n",
        "\n",
        "for epoch in range(epochs):\n",
        "\n",
        "    print('\\n Epoch {:} / {:}'.format(epoch + 1, epochs))\n",
        "\n",
        "    train_loss, _ = train()\n",
        "\n",
        "    valid_loss, val_pred = evaluate()\n",
        "\n",
        "    if valid_loss < best_valid_loss:\n",
        "        best_valid_loss = valid_loss\n",
        "        torch.save(model.state_dict(), 'model_only_transformer_MORE_EPOCHS.pt')\n",
        "\n",
        "    train_losses.append(train_loss)\n",
        "    valid_losses.append(valid_loss)\n",
        "\n",
        "    print(f'\\nTraining Loss: {train_loss:.3f}')\n",
        "    print(f'Validation Loss: {valid_loss:.3f}')"
      ]
    },
    {
      "cell_type": "markdown",
      "id": "84c3cf77-89c3-4798-a346-1eec8f5e730f",
      "metadata": {
        "id": "84c3cf77-89c3-4798-a346-1eec8f5e730f"
      },
      "source": [
        "Видно, что модель обучается, но довольно медленно. Пробовал обучать на lr=0.01 (а не 0.001), но так вообще никакого результата нет. Поэтому нужно просто долго ждать"
      ]
    },
    {
      "cell_type": "markdown",
      "id": "0e4adb98-3baa-41c5-9ca3-5a610f1f1930",
      "metadata": {
        "id": "0e4adb98-3baa-41c5-9ca3-5a610f1f1930"
      },
      "source": [
        "После обучения (5 эпох) посмотрим на результаты:"
      ]
    },
    {
      "cell_type": "code",
      "execution_count": null,
      "id": "91c0f0f6-522c-4261-8ff1-720090da6355",
      "metadata": {
        "id": "91c0f0f6-522c-4261-8ff1-720090da6355",
        "outputId": "3fe49086-af6e-48c8-9d47-618762df3665"
      },
      "outputs": [
        {
          "name": "stdout",
          "output_type": "stream",
          "text": [
            "              precision    recall  f1-score   support\n",
            "\n",
            "           0       0.23      0.27      0.25       650\n",
            "           1       0.20      0.19      0.19       629\n",
            "           2       0.23      0.02      0.03       569\n",
            "           3       0.29      0.33      0.31       602\n",
            "           4       0.23      0.34      0.27       661\n",
            "           5       0.27      0.40      0.33       568\n",
            "           6       0.56      0.20      0.29       718\n",
            "           7       0.55      0.44      0.48       629\n",
            "           8       0.26      0.21      0.23       541\n",
            "           9       0.40      0.45      0.42       632\n",
            "          10       0.18      0.06      0.09       555\n",
            "          11       0.25      0.02      0.03       529\n",
            "          12       0.14      0.39      0.20       653\n",
            "\n",
            "    accuracy                           0.26      7936\n",
            "   macro avg       0.29      0.26      0.24      7936\n",
            "weighted avg       0.30      0.26      0.25      7936\n",
            "\n"
          ]
        }
      ],
      "source": [
        "batch_size_for_test = 256\n",
        "with torch.no_grad():\n",
        "    for i in range(int(test_seq.shape[0]/batch_size_for_test)):\n",
        "        preds = model(test_seq[i*batch_size_for_test:i*batch_size_for_test+batch_size_for_test].to(device), test_mask[i*batch_size_for_test:i*batch_size_for_test+batch_size_for_test].to(device))\n",
        "        preds = preds.detach().cpu().numpy()\n",
        "        preds = np.argmax(preds, axis = 1)\n",
        "        if i == 0:\n",
        "            all_preds = preds\n",
        "        else:\n",
        "            all_preds = np.append(all_preds, preds)\n",
        "        if i == 30:\n",
        "            break\n",
        "\n",
        "print(classification_report(torch.Tensor.numpy(test_y[:all_preds.shape[0]]), all_preds))"
      ]
    },
    {
      "cell_type": "code",
      "execution_count": null,
      "id": "b79a111a-290e-496f-a673-289e6f5c4e42",
      "metadata": {
        "id": "b79a111a-290e-496f-a673-289e6f5c4e42",
        "outputId": "2831741a-7d4c-4ee0-c3e3-bf1eba7d1bc9"
      },
      "outputs": [
        {
          "data": {
            "image/png": "[encoded data removed]",
            "text/plain": [
              "<Figure size 500x500 with 2 Axes>"
            ]
          },
          "metadata": {},
          "output_type": "display_data"
        }
      ],
      "source": [
        "cm = confusion_matrix(all_preds, torch.Tensor.numpy(test_y[:all_preds.shape[0]]))\n",
        "plt.figure(figsize=(5, 5))\n",
        "sns.heatmap(cm, annot=True, fmt='g')\n",
        "plt.title('Confusion Matrix')\n",
        "plt.show()"
      ]
    },
    {
      "cell_type": "markdown",
      "id": "d51b996f-8bc8-4a3b-b401-74ad88bc9d82",
      "metadata": {
        "id": "d51b996f-8bc8-4a3b-b401-74ad88bc9d82"
      },
      "source": [
        "Очевидно, такой архитектуре нужно больше времени, чтобы обучиться (с таким же learning rate, как у остальных моделей)"
      ]
    },
    {
      "cell_type": "code",
      "execution_count": null,
      "id": "b47f4da2-ca54-4399-b771-cad40c0994e0",
      "metadata": {
        "id": "b47f4da2-ca54-4399-b771-cad40c0994e0"
      },
      "outputs": [],
      "source": []
    }
  ],
  "metadata": {
    "kernelspec": {
      "display_name": "Python 3 (ipykernel)",
      "language": "python",
      "name": "python3"
    },
    "language_info": {
      "codemirror_mode": {
        "name": "ipython",
        "version": 3
      },
      "file_extension": ".py",
      "mimetype": "text/x-python",
      "name": "python",
      "nbconvert_exporter": "python",
      "pygments_lexer": "ipython3",
      "version": "3.12.3"
    },
    "colab": {
      "provenance": [],
      "include_colab_link": true
    }
  },
  "nbformat": 4,
  "nbformat_minor": 5
}